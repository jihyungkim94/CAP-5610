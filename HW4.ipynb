{
  "cells": [
    {
      "cell_type": "markdown",
      "metadata": {
        "id": "view-in-github",
        "colab_type": "text"
      },
      "source": [
        "<a href=\"https://colab.research.google.com/github/jihyungkim94/CAP-5610/blob/main/HW4.ipynb\" target=\"_parent\"><img src=\"https://colab.research.google.com/assets/colab-badge.svg\" alt=\"Open In Colab\"/></a>"
      ]
    },
    {
      "cell_type": "markdown",
      "metadata": {
        "id": "DTn25gJ9iEr4"
      },
      "source": [
        "# Task 1 - K-Means Clustering with Real World Dataset"
      ]
    },
    {
      "cell_type": "code",
      "execution_count": null,
      "metadata": {
        "id": "0YRVsC_wiEr4"
      },
      "outputs": [],
      "source": [
        "import numpy as np\n",
        "from matplotlib import pyplot as plt\n",
        "from numpy import random \n",
        "from scipy.spatial import distance\n",
        "from sklearn import datasets\n",
        "from sklearn.metrics import accuracy_score\n",
        "from collections import Counter"
      ]
    },
    {
      "cell_type": "markdown",
      "metadata": {
        "id": "pJaZM0xkiEr4"
      },
      "source": [
        "Define several auxiliary functions used for Task 1."
      ]
    },
    {
      "cell_type": "code",
      "execution_count": null,
      "metadata": {
        "id": "2Nj0tc-kiEr5"
      },
      "outputs": [],
      "source": [
        "# Function to calculate the SSE given some distance function\n",
        "def calculate_sse(clusters, centers, dist_func):\n",
        "    sse = 0 \n",
        "    for i, center in enumerate(centers):\n",
        "        # get the cluster associated with this center\n",
        "        cluster = clusters[i]\n",
        "        \n",
        "        # sum up the squared errors for all data points in this cluster and add to the running sse\n",
        "        cluster_error = 0\n",
        "        for x in cluster:\n",
        "            cluster_error += dist_func(x, center) ** 2\n",
        "\n",
        "        sse += cluster_error\n",
        "    \n",
        "    return sse\n",
        "\n",
        "# Generalized Jaccard distance function\n",
        "def generalized_jaccard(a, b):\n",
        "    num = 0\n",
        "    denom = 0\n",
        "    for i in range(np.shape(a)[0]):\n",
        "        num += min(a[i], b[i])\n",
        "        denom += max(a[i], b[i])\n",
        "    \n",
        "    coeff = 0 if denom == 0 else num/denom\n",
        "        \n",
        "    return 1-coeff"
      ]
    },
    {
      "cell_type": "code",
      "execution_count": null,
      "metadata": {
        "id": "7s7kwDx-iEr6"
      },
      "outputs": [],
      "source": [
        "iris = datasets.load_iris()\n",
        "X = iris.data\n",
        "Y = iris.target\n",
        "\n",
        "# labels = [0,1,2]\n",
        "k = len(np.unique(Y))"
      ]
    },
    {
      "cell_type": "markdown",
      "metadata": {
        "id": "ag21BGDjiEr6"
      },
      "source": [
        "Randomly choose 3 initial centers."
      ]
    },
    {
      "cell_type": "code",
      "execution_count": null,
      "metadata": {
        "id": "YMAV9euUiEr7",
        "outputId": "83b199e0-b6f6-401c-996a-8c285a302114"
      },
      "outputs": [
        {
          "name": "stdout",
          "output_type": "stream",
          "text": [
            "Initial centers (randomly chosen):\n",
            " [[5.8 2.8 5.1 2.4]\n",
            " [6.  2.2 4.  1. ]\n",
            " [5.5 4.2 1.4 0.2]]\n"
          ]
        }
      ],
      "source": [
        "np.random.seed(0)\n",
        "random_indices = np.random.choice(X.shape[0], size=3, replace=False)\n",
        "initial_centers = X[random_indices]\n",
        "print('Initial centers (randomly chosen):\\n', initial_centers)"
      ]
    },
    {
      "cell_type": "markdown",
      "metadata": {
        "id": "oYKm6OubiEr8"
      },
      "source": [
        "Q1) K-means using Euclidean distance"
      ]
    },
    {
      "cell_type": "code",
      "execution_count": null,
      "metadata": {
        "id": "EFZ6NcnqiEr9",
        "outputId": "7a447f59-2ddb-4008-b902-81d8c2ede797"
      },
      "outputs": [
        {
          "name": "stdout",
          "output_type": "stream",
          "text": [
            "SSE:  78.8556658259773\n",
            "Accuracy:  0.8866666666666667\n",
            "Num iterations:  9\n"
          ]
        }
      ],
      "source": [
        "clf = KMeans(\n",
        "    criterion='sse',\n",
        "    dist_func=distance.euclidean, \n",
        "    initial_centroids=initial_centers,\n",
        "    k=k,\n",
        ")\n",
        "\n",
        "centers, clusters, cluster_assign = clf.fit(X)\n",
        "y_predict = np.zeros(len(Y), dtype=int)\n",
        "\n",
        "centers = np.array(centers)\n",
        "cluster_assign = np.array(cluster_assign)\n",
        "for i in range(k):\n",
        "    cluster_indices = np.where(cluster_assign == i)\n",
        "    label = Counter(Y[cluster_indices]).most_common(1)[0][0]\n",
        "    y_predict[cluster_indices] = label\n",
        "    \n",
        "print('SSE: ', calculate_sse(clusters, centers, dist_func=distance.euclidean))\n",
        "print('Accuracy: ', accuracy_score(Y, y_predict))\n",
        "print('Num iterations: ', clf.num_iterations)"
      ]
    },
    {
      "cell_type": "markdown",
      "metadata": {
        "id": "stSmMVKniEr9"
      },
      "source": [
        "Q2) K-means using cosine"
      ]
    },
    {
      "cell_type": "code",
      "execution_count": null,
      "metadata": {
        "id": "V1mE0vo5iEr-",
        "outputId": "3be2a2ce-eaf5-4820-dc38-5502322ae11b"
      },
      "outputs": [
        {
          "name": "stdout",
          "output_type": "stream",
          "text": [
            "SSE:  0.00034526683520035636\n",
            "Accuracy:  0.9666666666666667\n",
            "Num iterations:  4\n"
          ]
        }
      ],
      "source": [
        "clf = KMeans(\n",
        "    criterion='centroid',\n",
        "    dist_func=distance.cosine, \n",
        "    initial_centroids=initial_centers,\n",
        "    k=k,\n",
        ")\n",
        "\n",
        "centers, clusters, cluster_assign = clf.fit(X)\n",
        "y_predict = np.zeros(len(Y), dtype=int)\n",
        "\n",
        "centers = np.array(centers)\n",
        "cluster_assign = np.array(cluster_assign)\n",
        "for i in range(k):\n",
        "    cluster_indices = np.where(cluster_assign == i)\n",
        "    label = Counter(Y[cluster_indices]).most_common(1)[0][0]\n",
        "    y_predict[cluster_indices] = label\n",
        "    \n",
        "print('SSE: ', calculate_sse(clusters, centers, dist_func=distance.cosine))\n",
        "print('Accuracy: ', accuracy_score(Y, y_predict))\n",
        "print('Num iterations: ', clf.num_iterations)"
      ]
    },
    {
      "cell_type": "markdown",
      "metadata": {
        "id": "_TmsCxHjiEr-"
      },
      "source": [
        "Q3) K-means using Jaccard similarity"
      ]
    },
    {
      "cell_type": "code",
      "execution_count": null,
      "metadata": {
        "id": "QKb9rST8iEr-",
        "outputId": "4468b082-6024-4a1f-ddc9-ad10051d30bd"
      },
      "outputs": [
        {
          "name": "stdout",
          "output_type": "stream",
          "text": [
            "SSE:  1.0542011755590268\n",
            "Accuracy:  0.8933333333333333\n",
            "Num iterations:  4\n"
          ]
        }
      ],
      "source": [
        "clf = KMeans(\n",
        "    criterion='centroid',\n",
        "    dist_func=generalized_jaccard, \n",
        "    initial_centroids=initial_centers,\n",
        "    k=k,\n",
        ")\n",
        "\n",
        "centers, clusters, cluster_assign = clf.fit(X)\n",
        "y_predict = np.zeros(len(Y), dtype=int)\n",
        "\n",
        "centers = np.array(centers)\n",
        "cluster_assign = np.array(cluster_assign)\n",
        "for i in range(k):\n",
        "    cluster_indices = np.where(cluster_assign == i)\n",
        "    prediction = Counter(Y[cluster_indices]).most_common(1)\n",
        "    label = prediction[0][0] if prediction else 0\n",
        "    y_predict[cluster_indices] = label\n",
        "\n",
        "print('SSE: ', calculate_sse(clusters, centers, dist_func=generalized_jaccard))\n",
        "print('Accuracy: ', accuracy_score(Y, y_predict))\n",
        "print('Num iterations: ', clf.num_iterations)"
      ]
    },
    {
      "cell_type": "markdown",
      "metadata": {
        "id": "v0TdxcX9iEr_"
      },
      "source": [
        "Q4 - Number of iterations with different terminating conditions"
      ]
    },
    {
      "cell_type": "code",
      "execution_count": null,
      "metadata": {
        "scrolled": true,
        "id": "CzkifA-MiEr_",
        "outputId": "6146c27b-6328-419b-931a-262b4a74efd3"
      },
      "outputs": [
        {
          "name": "stdout",
          "output_type": "stream",
          "text": [
            "K-means using Euclidean distance:\n",
            "Num iterations using centroid as stop criterion: 9\n",
            "Num iterations using SSE as stop criterion: 9\n",
            "Num iterations using max preset value as stop criterion: 100\n",
            "\n",
            "\n",
            "K-means using Cosine:\n",
            "Num iterations using centroid as stop criterion: 4\n",
            "Num iterations using SSE as stop criterion: 4\n",
            "Num iterations using max preset value as stop criterion: 100\n",
            "\n",
            "\n",
            "K-means using Generalized Jaccard:\n",
            "Num iterations using centroid as stop criterion: 4\n",
            "Num iterations using SSE as stop criterion: 4\n",
            "Num iterations using max preset value as stop criterion: 100\n",
            "\n",
            "\n"
          ]
        }
      ],
      "source": [
        "# if criterion is None we run through max_iter=100 iterations of k-means\n",
        "criteria_names = ['centroid', 'SSE', 'max preset value']\n",
        "criteria = ['centroid', 'sse', None]\n",
        "\n",
        "dist_names = ['Euclidean distance', 'Cosine', 'Generalized Jaccard']\n",
        "dist_funcs = [distance.euclidean, distance.cosine, generalized_jaccard]\n",
        "\n",
        "for dist_func, dist_name in zip(dist_funcs, dist_names):\n",
        "    print('K-means using {}:'.format(dist_name))\n",
        "    for criterion, criterion_name in zip(criteria, criteria_names):\n",
        "            clf = KMeans(\n",
        "            criterion=criterion,\n",
        "            dist_func=dist_func, \n",
        "            initial_centroids=initial_centers,\n",
        "            k=k,\n",
        "            max_iter=100\n",
        "        )\n",
        "            clf.fit(X)\n",
        "            print('Num iterations using {} as stop criterion: {}'.format(criterion_name, clf.num_iterations))\n",
        "    print('\\n')"
      ]
    },
    {
      "cell_type": "markdown",
      "metadata": {
        "id": "Mh8CVp8ViEr_"
      },
      "source": [
        "# Task 2"
      ]
    },
    {
      "cell_type": "markdown",
      "metadata": {
        "id": "rO6Dk9FsiEsA"
      },
      "source": [
        "Data for clusters A and B"
      ]
    },
    {
      "cell_type": "code",
      "execution_count": null,
      "metadata": {
        "id": "Gy9S3dcDiEsA"
      },
      "outputs": [],
      "source": [
        "A = np.array([\n",
        "    [4.7, 3.2],\n",
        "    [4.9, 3.1],\n",
        "    [5.0, 3.0],\n",
        "    [4.6, 2.9]\n",
        "])\n",
        "\n",
        "B = np.array([\n",
        "    [5.9, 3.2],\n",
        "    [6.7, 3.1],\n",
        "    [6.0, 3.0],\n",
        "    [6.2, 2.8]\n",
        "])"
      ]
    },
    {
      "cell_type": "markdown",
      "metadata": {
        "id": "24kfVEVdiEsA"
      },
      "source": [
        "Compute a distance matrix where distance_matrix[i][j] represents the distance between A[i] and B[j]"
      ]
    },
    {
      "cell_type": "code",
      "execution_count": null,
      "metadata": {
        "id": "HXc4n-c4iEsA",
        "outputId": "c21a3779-3d40-4fad-91bf-34776f781138"
      },
      "outputs": [
        {
          "data": {
            "text/plain": [
              "array([[1.2       , 2.00249844, 1.31529464, 1.55241747],\n",
              "       [1.00498756, 1.8       , 1.1045361 , 1.33416641],\n",
              "       [0.92195445, 1.70293864, 1.        , 1.21655251],\n",
              "       [1.33416641, 2.10950231, 1.40356688, 1.60312195]])"
            ]
          },
          "execution_count": 25,
          "metadata": {},
          "output_type": "execute_result"
        }
      ],
      "source": [
        "distance_matrix = np.zeros((4,4))\n",
        "\n",
        "for i in range(A.shape[0]):\n",
        "    for j in range(B.shape[0]):\n",
        "        distance_matrix[i][j] = distance.euclidean(A[i], B[j])\n",
        "        \n",
        "distance_matrix"
      ]
    },
    {
      "cell_type": "markdown",
      "metadata": {
        "id": "Y7ZSCc-YiEsB"
      },
      "source": [
        "A. Distance between two farthest members"
      ]
    },
    {
      "cell_type": "code",
      "execution_count": null,
      "metadata": {
        "id": "oVTEVSkDiEsB",
        "outputId": "7f44324a-01ed-4a49-9562-23b1a3eb7e9d"
      },
      "outputs": [
        {
          "name": "stdout",
          "output_type": "stream",
          "text": [
            "Max distance:  2.1095\n",
            "A: [4.6 2.9], B: [6.7 3.1]\n"
          ]
        }
      ],
      "source": [
        "max_indices = np.unravel_index(distance_matrix.argmax(), distance_matrix.shape)\n",
        "\n",
        "print('Max distance: ', round(distance_matrix[max_indices], 4))\n",
        "print('A: {}, B: {}'.format(A[max_indices[0]], B[max_indices[1]]))"
      ]
    },
    {
      "cell_type": "markdown",
      "metadata": {
        "id": "nWxwk80CiEsB"
      },
      "source": [
        "B. Distance between two closest members"
      ]
    },
    {
      "cell_type": "code",
      "execution_count": null,
      "metadata": {
        "id": "okdk_dpWiEsC",
        "outputId": "cd6099d7-b787-46ab-ac5f-c0d5a36e5827"
      },
      "outputs": [
        {
          "name": "stdout",
          "output_type": "stream",
          "text": [
            "Min distance:  0.922\n",
            "A: [5. 3.], B: [5.9 3.2]\n"
          ]
        }
      ],
      "source": [
        "min_indices = np.unravel_index(distance_matrix.argmin(), distance_matrix.shape)\n",
        "\n",
        "print('Min distance: ', round(distance_matrix[min_indices], 4))\n",
        "print('A: {}, B: {}'.format(A[min_indices[0]], B[min_indices[1]]))"
      ]
    },
    {
      "cell_type": "markdown",
      "metadata": {
        "id": "0nU8VoM3iEsC"
      },
      "source": [
        "C. Average distance between all pairs"
      ]
    },
    {
      "cell_type": "code",
      "execution_count": null,
      "metadata": {
        "id": "_fT7jtLIiEsC",
        "outputId": "cdb48d1b-c1dd-4113-bb3b-8cacdc1e92af"
      },
      "outputs": [
        {
          "name": "stdout",
          "output_type": "stream",
          "text": [
            "Average distance between cluster pairs:  1.4129\n"
          ]
        }
      ],
      "source": [
        "print('Average distance between cluster pairs: ', round(np.mean(distance_matrix), 4))"
      ]
    }
  ],
  "metadata": {
    "kernelspec": {
      "display_name": "Python 3",
      "language": "python",
      "name": "python3"
    },
    "language_info": {
      "codemirror_mode": {
        "name": "ipython",
        "version": 3
      },
      "file_extension": ".py",
      "mimetype": "text/x-python",
      "name": "python",
      "nbconvert_exporter": "python",
      "pygments_lexer": "ipython3",
      "version": "3.7.5"
    },
    "colab": {
      "name": "HW4.ipynb",
      "provenance": [],
      "collapsed_sections": [],
      "include_colab_link": true
    }
  },
  "nbformat": 4,
  "nbformat_minor": 0
}